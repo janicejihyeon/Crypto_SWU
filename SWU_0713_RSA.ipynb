{
 "cells": [
  {
   "cell_type": "markdown",
   "metadata": {},
   "source": [
    "# RSA 암호화 및 복호화\n",
    "\n",
    "RSA 암호를 구현해봅시다."
   ]
  },
  {
   "cell_type": "markdown",
   "metadata": {},
   "source": [
    "[출처] https://github.com/Amaterazu7/rsa-python/blob/master/rsa.py"
   ]
  },
  {
   "cell_type": "markdown",
   "metadata": {},
   "source": [
    "## 1. GCD 함수 만들기\n",
    "우리 최대공약수를 구하는 알고리즘이 있었죠? 공개키를 생성하기 위해서 RSA에서도 이 알고리즘을 사용해서 서로소임을 확인하는 것이 필요합니다.  \n",
    "해당 최대공약수 (GCD)를 구현합시다. 뭐를 이용해? 유클리드 알고리즘을 이용해서요."
   ]
  },
  {
   "cell_type": "code",
   "execution_count": 4,
   "metadata": {},
   "outputs": [],
   "source": [
    "def gcd(a, b):\n",
    "    while b != 0:\n",
    "        a, b = b, a % b\n",
    "    return a"
   ]
  },
  {
   "cell_type": "markdown",
   "metadata": {},
   "source": [
    "## 2. 곱셈에 대한 역원 구현하기\n",
    "RSA의 키를 생성할 때 곱셈에 대한 역원을 통해 키 쌍을 만들었습니다. 곱셈에 대한 역원을 코드로 구현합시다."
   ]
  },
  {
   "cell_type": "code",
   "execution_count": 5,
   "metadata": {},
   "outputs": [],
   "source": [
    "def multiplicative_inverse(e, phi):\n",
    "    d = 0\n",
    "    x1 = 0\n",
    "    x2 = 1\n",
    "    y1 = 1\n",
    "    temp_phi = phi\n",
    "\n",
    "    while e > 0:\n",
    "        temp1 = temp_phi//e\n",
    "        temp2 = temp_phi - temp1 * e\n",
    "        temp_phi = e\n",
    "        e = temp2\n",
    "\n",
    "        x = x2 - temp1 * x1\n",
    "        y = d - temp1 * y1\n",
    "\n",
    "        x2 = x1\n",
    "        x1 = x\n",
    "        d = y1\n",
    "        y1 = y\n",
    "\n",
    "    if temp_phi == 1:\n",
    "        return d + phi"
   ]
  },
  {
   "cell_type": "markdown",
   "metadata": {},
   "source": [
    "## 3. 키 쌍 생성하기\n",
    "이제 위의 역원을 구현한 함수를 사용해서, n = pq가 있을 때 공개키와 비밀키 쌍을 생성해보겠습니다.  \n",
    "공개키는 랜덤함수에서 하나 빼올게요."
   ]
  },
  {
   "cell_type": "code",
   "execution_count": 7,
   "metadata": {},
   "outputs": [],
   "source": [
    "import random\n",
    "\n",
    "def generate_key_pair(p, q):\n",
    "    if not (is_prime(p) and is_prime(q)):\n",
    "        raise ValueError('Both numbers must be prime.')\n",
    "    elif p == q:\n",
    "        raise ValueError('p and q cannot be equal')\n",
    "    n = p * q\n",
    "\n",
    "    phi = (p-1) * (q-1)\n",
    "\n",
    "    e = random.randrange(1, phi)\n",
    "\n",
    "    g = gcd(e, phi)   ## 공개키는 phi함수를 적용한 n과 서로소여야 역수가 존재하겠습니다.\n",
    "    while g != 1:\n",
    "        e = random.randrange(1, phi)\n",
    "        g = gcd(e, phi)\n",
    "\n",
    "    d = multiplicative_inverse(e, phi)  ## 공개키와 비밀키는 역수 관계죠?\n",
    "\n",
    "    return ((e, n), (d, n))"
   ]
  },
  {
   "cell_type": "markdown",
   "metadata": {},
   "source": [
    "## 4. RSA 암호화 및 복호화\n",
    "이제 암호화와 복호화를 구현합니다."
   ]
  },
  {
   "cell_type": "code",
   "execution_count": 8,
   "metadata": {},
   "outputs": [],
   "source": [
    "def encrypt(pk, plaintext):\n",
    "    key, n = pk\n",
    "    cipher = [pow(ord(char), key, n) for char in plaintext]\n",
    "    return cipher\n",
    "\n",
    "\n",
    "def decrypt(pk, ciphertext):\n",
    "    key, n = pk\n",
    "    aux = [str(pow(char, key, n)) for char in ciphertext]\n",
    "    plain = [chr(int(char2)) for char2 in aux]\n",
    "    return ''.join(plain)"
   ]
  },
  {
   "cell_type": "markdown",
   "metadata": {},
   "source": [
    "## 5. 사용\n",
    "이제 끝났습니다. 위의 함수를 사용해봅시다.  \n",
    "p와 q를 소수로 설정하면, 공개키와 개인키는 내부 랜덤함수에 의해 알아서 생성될 것입니다.  \n",
    "우리는 암호화와 복호화만 확인해봅시다."
   ]
  },
  {
   "cell_type": "code",
   "execution_count": 12,
   "metadata": {},
   "outputs": [
    {
     "name": "stdout",
     "output_type": "stream",
     "text": [
      "(213, 3127) (1685, 3127)\n"
     ]
    }
   ],
   "source": [
    "p = 53\n",
    "q = 59\n",
    "public, private = generate_key_pair(p, q)\n",
    "print(public, private)"
   ]
  },
  {
   "cell_type": "code",
   "execution_count": 13,
   "metadata": {},
   "outputs": [
    {
     "name": "stdout",
     "output_type": "stream",
     "text": [
      "[2406, 1168, 615, 615, 1588]\n"
     ]
    }
   ],
   "source": [
    "cipher = encrypt(public, \"hello\")\n",
    "print(cipher)"
   ]
  },
  {
   "cell_type": "code",
   "execution_count": 14,
   "metadata": {},
   "outputs": [
    {
     "name": "stdout",
     "output_type": "stream",
     "text": [
      "hello\n"
     ]
    }
   ],
   "source": [
    "plain = decrypt(private, cipher)\n",
    "print(plain)"
   ]
  },
  {
   "cell_type": "code",
   "execution_count": null,
   "metadata": {},
   "outputs": [],
   "source": []
  }
 ],
 "metadata": {
  "kernelspec": {
   "display_name": "Python 3 (ipykernel)",
   "language": "python",
   "name": "python3"
  },
  "language_info": {
   "codemirror_mode": {
    "name": "ipython",
    "version": 3
   },
   "file_extension": ".py",
   "mimetype": "text/x-python",
   "name": "python",
   "nbconvert_exporter": "python",
   "pygments_lexer": "ipython3",
   "version": "3.11.5"
  }
 },
 "nbformat": 4,
 "nbformat_minor": 4
}
