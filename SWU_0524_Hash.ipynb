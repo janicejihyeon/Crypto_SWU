{
 "cells": [
  {
   "cell_type": "markdown",
   "id": "ef7a6b2e-df5d-48b8-9e5c-95af2fab5ac2",
   "metadata": {},
   "source": [
    "## 해시 함수\n",
    "\n",
    "해시 함수는 역함수가 존재하지 않으며, 빠르게 연산할 수 있는 일방향성 함수를 얘기합니다.  \n",
    "그럼 우리가 가벼운 해시 함수를 만들어볼까요?"
   ]
  },
  {
   "cell_type": "markdown",
   "id": "fe47fc71-db7e-4601-a1e2-c2ff67e485f1",
   "metadata": {},
   "source": [
    "### 1. 곱셈 해시 함수\n",
    "곱셈 연산을 하고 특정 값으로 나누어 나머지를 만드는 연산으로 해시 함수를 만들 수 있습니다."
   ]
  },
  {
   "cell_type": "code",
   "execution_count": null,
   "id": "4daa0e92-2a7f-452e-84dc-cffb8f655998",
   "metadata": {},
   "outputs": [],
   "source": [
    "def multiplication_hash(n, multiplier = 31, divisor = 1000):\n",
    "    return (n * multiplier) % divisor\n",
    "\n",
    "print(multiplication_hash(12345))\n",
    "print(multiplication_hash(67890))"
   ]
  },
  {
   "cell_type": "code",
   "execution_count": null,
   "id": "f6d281de-1ed3-49ab-b672-9deaf610383a",
   "metadata": {},
   "outputs": [],
   "source": []
  },
  {
   "cell_type": "markdown",
   "id": "d77bd926-e885-4587-a839-774bd6ca94a3",
   "metadata": {},
   "source": [
    "### 2. 비트 이동 해시 함수\n",
    "입력 숫자에 비트 이동 연산을 임의로 수행해서 해시 함수를 만들 수 있습니다."
   ]
  },
  {
   "cell_type": "code",
   "execution_count": null,
   "id": "5076368d-8071-4ccf-a14c-a3c0aea11936",
   "metadata": {},
   "outputs": [],
   "source": [
    "def bitwise_shift_hash(n):\n",
    "    return (n ^ (n << 5) ^ (n >> 2)) & 0xFFFFFFFF\n",
    "\n",
    "print(bitwise_shift_hash(12345))\n",
    "print(bitwise_shift_hash(67890))"
   ]
  },
  {
   "cell_type": "code",
   "execution_count": null,
   "id": "9e46f241-7802-4141-a4c8-1d7dd0c16d27",
   "metadata": {},
   "outputs": [],
   "source": []
  },
  {
   "cell_type": "markdown",
   "id": "2b20d61d-6ac9-4a9b-bda1-8f84443e8939",
   "metadata": {},
   "source": [
    "### 3. 피보나치 해시 함수\n",
    "흔히 알려진 피보나치 수열을 이용해서 해시 함수를 만들 수 있습니다.  \n",
    "이때에는 피보나치 수열에 나머지연산을 추가하여 나오는 결과값을 예측할 수 없도록 해야합니다.\n",
    "\n",
    "$F_n = F_{n-1} + F_{n-2}$"
   ]
  },
  {
   "cell_type": "code",
   "execution_count": null,
   "id": "a3050c48-176c-42c7-8d9b-2af2d96b4565",
   "metadata": {},
   "outputs": [],
   "source": [
    "def fibonacci_hash(n, divisor = 1000):\n",
    "    fib = [0, 1]\n",
    "    for i in range(2, n + 2):\n",
    "        fib.append((fib[-1] + fib[-2]) % divisor)\n",
    "    return fib[n % (n + 2)]\n",
    "\n",
    "print(fibonacci_hash(12345))\n",
    "print(fibonacci_hash(67890))\n"
   ]
  },
  {
   "cell_type": "code",
   "execution_count": null,
   "id": "9cf268ed-bacf-4e5f-8d6f-0134ff69832b",
   "metadata": {},
   "outputs": [],
   "source": []
  },
  {
   "cell_type": "markdown",
   "id": "38275412-c4ab-4d45-8e00-4cd85102e02a",
   "metadata": {},
   "source": [
    "## 4. 확인\n",
    "이전에 만들었던 값이 그대로 나오는지 확인해서, 항상 일정한 값을 나오는지 확인해봅시다."
   ]
  },
  {
   "cell_type": "code",
   "execution_count": null,
   "id": "dcb80344-592e-4243-9c35-eb6de8465a97",
   "metadata": {},
   "outputs": [],
   "source": [
    "print(multiplication_hash(12345))\n",
    "print(multiplication_hash(67890))"
   ]
  },
  {
   "cell_type": "code",
   "execution_count": null,
   "id": "8b4ed7c0-b185-4d12-a452-7a5ce8a53999",
   "metadata": {},
   "outputs": [],
   "source": [
    "print(bitwise_shift_hash(12345))\n",
    "print(bitwise_shift_hash(67890))"
   ]
  },
  {
   "cell_type": "code",
   "execution_count": null,
   "id": "0cd38999-9ca8-4115-8b14-3b283a81b2c3",
   "metadata": {},
   "outputs": [],
   "source": [
    "print(fibonacci_hash(12345))\n",
    "print(fibonacci_hash(67890))"
   ]
  },
  {
   "cell_type": "code",
   "execution_count": null,
   "id": "12bc142f-d78c-4a63-8757-f3c45e740d8c",
   "metadata": {},
   "outputs": [],
   "source": []
  }
 ],
 "metadata": {
  "kernelspec": {
   "display_name": "Python 3 (ipykernel)",
   "language": "python",
   "name": "python3"
  },
  "language_info": {
   "codemirror_mode": {
    "name": "ipython",
    "version": 3
   },
   "file_extension": ".py",
   "mimetype": "text/x-python",
   "name": "python",
   "nbconvert_exporter": "python",
   "pygments_lexer": "ipython3",
   "version": "3.11.5"
  }
 },
 "nbformat": 4,
 "nbformat_minor": 5
}
